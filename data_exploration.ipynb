{
 "cells": [
  {
   "cell_type": "markdown",
   "metadata": {},
   "source": [
    "# Newport Budget Data\n",
    "This notebook documents working with the Newport financial dataset in `pandas`. Data processing code is developed here and worked into the visualization app."
   ]
  },
  {
   "cell_type": "code",
   "execution_count": 1,
   "metadata": {
    "collapsed": true
   },
   "outputs": [],
   "source": [
    "import pandas as pd"
   ]
  },
  {
   "cell_type": "code",
   "execution_count": 2,
   "metadata": {
    "collapsed": true
   },
   "outputs": [],
   "source": [
    "act_file = '../../Datasets/newport-finances/newport-annual-budget-actuals-2014-2016.csv'"
   ]
  },
  {
   "cell_type": "code",
   "execution_count": 3,
   "metadata": {},
   "outputs": [],
   "source": [
    "# first 4 rows are header inserted by OpenGov, so drop them\n",
    "actuals = pd.read_csv(act_file, skiprows=4)"
   ]
  },
  {
   "cell_type": "code",
   "execution_count": 4,
   "metadata": {},
   "outputs": [
    {
     "data": {
      "text/html": [
       "<div>\n",
       "<style>\n",
       "    .dataframe thead tr:only-child th {\n",
       "        text-align: right;\n",
       "    }\n",
       "\n",
       "    .dataframe thead th {\n",
       "        text-align: left;\n",
       "    }\n",
       "\n",
       "    .dataframe tbody tr th {\n",
       "        vertical-align: top;\n",
       "    }\n",
       "</style>\n",
       "<table border=\"1\" class=\"dataframe\">\n",
       "  <thead>\n",
       "    <tr style=\"text-align: right;\">\n",
       "      <th></th>\n",
       "      <th>Unnamed: 0</th>\n",
       "      <th>Unnamed: 1</th>\n",
       "      <th>Unnamed: 2</th>\n",
       "      <th>Unnamed: 3</th>\n",
       "      <th>2014-15 Actual</th>\n",
       "      <th>2015-16 Actual</th>\n",
       "    </tr>\n",
       "  </thead>\n",
       "  <tbody>\n",
       "    <tr>\n",
       "      <th>0</th>\n",
       "      <td>Revenues</td>\n",
       "      <td>NaN</td>\n",
       "      <td>NaN</td>\n",
       "      <td>NaN</td>\n",
       "      <td>157,455,251</td>\n",
       "      <td>143,577,890</td>\n",
       "    </tr>\n",
       "    <tr>\n",
       "      <th>1</th>\n",
       "      <td>Revenues</td>\n",
       "      <td>Local Taxes</td>\n",
       "      <td>NaN</td>\n",
       "      <td>NaN</td>\n",
       "      <td>73,924,775</td>\n",
       "      <td>75,173,853</td>\n",
       "    </tr>\n",
       "    <tr>\n",
       "      <th>2</th>\n",
       "      <td>Revenues</td>\n",
       "      <td>Local Taxes</td>\n",
       "      <td>(45101) CY Real Estate Taxes</td>\n",
       "      <td>NaN</td>\n",
       "      <td>66,324,807</td>\n",
       "      <td>68,006,736</td>\n",
       "    </tr>\n",
       "    <tr>\n",
       "      <th>3</th>\n",
       "      <td>Revenues</td>\n",
       "      <td>Local Taxes</td>\n",
       "      <td>(45115) Meals and Beverage Tax</td>\n",
       "      <td>NaN</td>\n",
       "      <td>2,069,020</td>\n",
       "      <td>2,266,128</td>\n",
       "    </tr>\n",
       "    <tr>\n",
       "      <th>4</th>\n",
       "      <td>Revenues</td>\n",
       "      <td>Local Taxes</td>\n",
       "      <td>(45116) Rooms Tax</td>\n",
       "      <td>NaN</td>\n",
       "      <td>1,941,837</td>\n",
       "      <td>2,318,567</td>\n",
       "    </tr>\n",
       "  </tbody>\n",
       "</table>\n",
       "</div>"
      ],
      "text/plain": [
       "  Unnamed: 0   Unnamed: 1                      Unnamed: 2 Unnamed: 3  \\\n",
       "0   Revenues          NaN                             NaN        NaN   \n",
       "1   Revenues  Local Taxes                             NaN        NaN   \n",
       "2   Revenues  Local Taxes    (45101) CY Real Estate Taxes        NaN   \n",
       "3   Revenues  Local Taxes  (45115) Meals and Beverage Tax        NaN   \n",
       "4   Revenues  Local Taxes               (45116) Rooms Tax        NaN   \n",
       "\n",
       "  2014-15 Actual 2015-16 Actual  \n",
       "0    157,455,251    143,577,890  \n",
       "1     73,924,775     75,173,853  \n",
       "2     66,324,807     68,006,736  \n",
       "3      2,069,020      2,266,128  \n",
       "4      1,941,837      2,318,567  "
      ]
     },
     "execution_count": 4,
     "metadata": {},
     "output_type": "execute_result"
    }
   ],
   "source": [
    "actuals.head()"
   ]
  },
  {
   "cell_type": "code",
   "execution_count": 5,
   "metadata": {
    "scrolled": true
   },
   "outputs": [],
   "source": [
    "actuals = actuals.dropna(subset=['Unnamed: 2'], axis=0)"
   ]
  },
  {
   "cell_type": "code",
   "execution_count": 6,
   "metadata": {},
   "outputs": [
    {
     "data": {
      "text/plain": [
       "array(['Revenues', 'Expenses'], dtype=object)"
      ]
     },
     "execution_count": 6,
     "metadata": {},
     "output_type": "execute_result"
    }
   ],
   "source": [
    "actuals['Unnamed: 0'].unique()"
   ]
  },
  {
   "cell_type": "code",
   "execution_count": 7,
   "metadata": {},
   "outputs": [
    {
     "data": {
      "text/plain": [
       "array(['Local Taxes', 'User Fees', 'Contributions', 'Charges for Services',\n",
       "       'Transfers', 'State and Federal Aid', 'Other Financing Sources',\n",
       "       'Use of Money and Property', 'Revenues',\n",
       "       'Contributions/Sale of Property', 'Program Income', 'Service Fees',\n",
       "       'Beach Revenue', 'Maritime User Fees', 'Investment Income',\n",
       "       'Miscellaneous Revenue', 'Other', 'Salaries',\n",
       "       'School Appropriation', 'Employee Benefits', 'Pension Expense',\n",
       "       'Debt', 'Capital Outlay Expense', 'Purchased Services',\n",
       "       'Depreciation', 'Operating Expense', 'Utilities',\n",
       "       'Internal Services', 'Supplies and Materials', 'Library',\n",
       "       'Repairs and Maintenance', 'Grants Expense', 'Fees', 'Awards',\n",
       "       'Civic Support', 'Program Expense', 'Expenses', 'Fixed Assets'], dtype=object)"
      ]
     },
     "execution_count": 7,
     "metadata": {},
     "output_type": "execute_result"
    }
   ],
   "source": [
    "actuals['Unnamed: 1'].unique()"
   ]
  },
  {
   "cell_type": "code",
   "execution_count": 8,
   "metadata": {},
   "outputs": [],
   "source": [
    "# convert currency strings to ints\n",
    "actuals[['2014-15 Actual', '2015-16 Actual']] = actuals[['2014-15 Actual', '2015-16 Actual']].replace(',','', regex=True).astype('int')"
   ]
  },
  {
   "cell_type": "code",
   "execution_count": 13,
   "metadata": {},
   "outputs": [],
   "source": [
    "detail_list = []\n",
    "for i, row in actuals.iterrows():\n",
    "    detail_list.extend([(row['Unnamed: 1'], row['Unnamed: 2'], row['2014-15 Actual'], row['2015-16 Actual'])])\n",
    "\n"
   ]
  },
  {
   "cell_type": "code",
   "execution_count": 21,
   "metadata": {},
   "outputs": [
    {
     "data": {
      "text/plain": [
       "Unnamed: 0\n",
       "Expenses    131682316\n",
       "Revenues    157455250\n",
       "Name: 2014-15 Actual, dtype: int32"
      ]
     },
     "execution_count": 21,
     "metadata": {},
     "output_type": "execute_result"
    }
   ],
   "source": [
    "actuals.groupby('Unnamed: 0')['2014-15 Actual'].sum()"
   ]
  },
  {
   "cell_type": "code",
   "execution_count": 47,
   "metadata": {},
   "outputs": [
    {
     "data": {
      "text/plain": [
       "[('Awards', 194171),\n",
       " ('Beach Revenue', 838484),\n",
       " ('Capital Outlay Expense', 4650735),\n",
       " ('Charges for Services', 9593161),\n",
       " ('Civic Support', 113450),\n",
       " ('Contributions', 11633389),\n",
       " ('Contributions/Sale of Property', 3194563),\n",
       " ('Debt', 8693281),\n",
       " ('Depreciation', 5671146),\n",
       " ('Employee Benefits', 21543446),\n",
       " ('Expenses', 3750),\n",
       " ('Fees', 612782),\n",
       " ('Fixed Assets', -357388),\n",
       " ('Grants Expense', 1190870),\n",
       " ('Internal Services', 2599208),\n",
       " ('Investment Income', 292079),\n",
       " ('Library', 1756025),\n",
       " ('Local Taxes', 73924776),\n",
       " ('Maritime User Fees', 799311),\n",
       " ('Miscellaneous Revenue', 53589),\n",
       " ('Operating Expense', 5067072),\n",
       " ('Other', 800075),\n",
       " ('Other Financing Sources', 6158546),\n",
       " ('Pension Expense', 10783984),\n",
       " ('Program Expense', 46360),\n",
       " ('Program Income', 368795),\n",
       " ('Purchased Services', 5797334),\n",
       " ('Repairs and Maintenance', 1457062),\n",
       " ('Revenues', 1904193),\n",
       " ('Salaries', 27004444),\n",
       " ('School Appropriation', 23377157),\n",
       " ('Service Fees', 1161272),\n",
       " ('State and Federal Aid', 4483058),\n",
       " ('Supplies and Materials', 2544724),\n",
       " ('Transfers', 8299779),\n",
       " ('Use of Money and Property', 7582881),\n",
       " ('User Fees', 31326979),\n",
       " ('Utilities', 3973023)]"
      ]
     },
     "execution_count": 47,
     "metadata": {},
     "output_type": "execute_result"
    }
   ],
   "source": [
    "grp = actuals.groupby('Unnamed: 1')\n",
    "list(zip(list(grp['2014-15 Actual'].sum().index), list(grp['2014-15 Actual'].sum().values)))"
   ]
  },
  {
   "cell_type": "code",
   "execution_count": 60,
   "metadata": {},
   "outputs": [
    {
     "data": {
      "text/plain": [
       "<pandas.core.groupby.DataFrameGroupBy object at 0x000001977B422860>"
      ]
     },
     "execution_count": 60,
     "metadata": {},
     "output_type": "execute_result"
    }
   ],
   "source": [
    "grp.get_group('Local Taxes').groupby('Unnamed: 0')"
   ]
  },
  {
   "cell_type": "code",
   "execution_count": 72,
   "metadata": {},
   "outputs": [
    {
     "name": "stdout",
     "output_type": "stream",
     "text": [
      "Awards\n",
      "['Expenses']\n",
      "194171\n",
      "Beach Revenue\n",
      "['Revenues']\n",
      "838484\n",
      "Capital Outlay Expense\n",
      "['Expenses']\n",
      "4650735\n",
      "Charges for Services\n",
      "['Revenues']\n",
      "9593161\n",
      "Civic Support\n",
      "['Expenses']\n",
      "113450\n",
      "Contributions\n",
      "['Revenues']\n",
      "11633389\n",
      "Contributions/Sale of Property\n",
      "['Revenues']\n",
      "3194563\n",
      "Debt\n",
      "['Expenses']\n",
      "8693281\n",
      "Depreciation\n",
      "['Expenses']\n",
      "5671146\n",
      "Employee Benefits\n",
      "['Expenses']\n",
      "21543446\n",
      "Expenses\n",
      "['Expenses']\n",
      "3750\n",
      "Fees\n",
      "['Expenses']\n",
      "612782\n",
      "Fixed Assets\n",
      "['Expenses']\n",
      "-357388\n",
      "Grants Expense\n",
      "['Expenses']\n",
      "1190870\n",
      "Internal Services\n",
      "['Expenses']\n",
      "2599208\n",
      "Investment Income\n",
      "['Revenues']\n",
      "292079\n",
      "Library\n",
      "['Expenses']\n",
      "1756025\n",
      "Local Taxes\n",
      "['Revenues']\n",
      "73924776\n",
      "Maritime User Fees\n",
      "['Revenues']\n",
      "799311\n",
      "Miscellaneous Revenue\n",
      "['Revenues']\n",
      "53589\n",
      "Operating Expense\n",
      "['Expenses']\n",
      "5067072\n",
      "Other\n",
      "['Revenues' 'Expenses']\n",
      "800075\n",
      "Other Financing Sources\n",
      "['Revenues']\n",
      "6158546\n",
      "Pension Expense\n",
      "['Expenses']\n",
      "10783984\n",
      "Program Expense\n",
      "['Expenses']\n",
      "46360\n",
      "Program Income\n",
      "['Revenues']\n",
      "368795\n",
      "Purchased Services\n",
      "['Expenses']\n",
      "5797334\n",
      "Repairs and Maintenance\n",
      "['Expenses']\n",
      "1457062\n",
      "Revenues\n",
      "['Revenues']\n",
      "1904193\n",
      "Salaries\n",
      "['Expenses']\n",
      "27004444\n",
      "School Appropriation\n",
      "['Expenses']\n",
      "23377157\n",
      "Service Fees\n",
      "['Revenues']\n",
      "1161272\n",
      "State and Federal Aid\n",
      "['Revenues']\n",
      "4483058\n",
      "Supplies and Materials\n",
      "['Expenses']\n",
      "2544724\n",
      "Transfers\n",
      "['Revenues' 'Expenses']\n",
      "8299779\n",
      "Use of Money and Property\n",
      "['Revenues']\n",
      "7582881\n",
      "User Fees\n",
      "['Revenues']\n",
      "31326979\n",
      "Utilities\n",
      "['Expenses']\n",
      "3973023\n"
     ]
    }
   ],
   "source": [
    "for name, group in grp:\n",
    "    print(name)\n",
    "    print(group['Unnamed: 0'].unique())\n",
    "    print(group['2014-15 Actual'].sum())"
   ]
  },
  {
   "cell_type": "code",
   "execution_count": 74,
   "metadata": {},
   "outputs": [],
   "source": [
    "grouped = actuals.groupby('Unnamed: 0')"
   ]
  },
  {
   "cell_type": "code",
   "execution_count": 83,
   "metadata": {},
   "outputs": [
    {
     "data": {
      "text/plain": [
       "Unnamed: 1\n",
       "Beach Revenue                       838484\n",
       "Charges for Services               9593161\n",
       "Contributions                     11633389\n",
       "Contributions/Sale of Property     3194563\n",
       "Investment Income                   292079\n",
       "Local Taxes                       73924776\n",
       "Maritime User Fees                  799311\n",
       "Miscellaneous Revenue                53589\n",
       "Other                               100000\n",
       "Other Financing Sources            6158546\n",
       "Program Income                      368795\n",
       "Revenues                           1904193\n",
       "Service Fees                       1161272\n",
       "State and Federal Aid              4483058\n",
       "Transfers                          4040174\n",
       "Use of Money and Property          7582881\n",
       "User Fees                         31326979\n",
       "Name: 2014-15 Actual, dtype: int32"
      ]
     },
     "execution_count": 83,
     "metadata": {},
     "output_type": "execute_result"
    }
   ],
   "source": [
    "grouped.get_group('Revenues').groupby('Unnamed: 1')['2014-15 Actual'].sum()"
   ]
  },
  {
   "cell_type": "code",
   "execution_count": 86,
   "metadata": {},
   "outputs": [
    {
     "data": {
      "text/plain": [
       "{'Beach Revenue': Int64Index([129, 130, 131, 132, 133, 134, 135, 136, 137, 138, 139], dtype='int64'),\n",
       " 'Charges for Services': Int64Index([38, 39, 40, 41, 42, 43, 44, 45, 46, 47, 48, 49, 50, 51, 52, 53, 54,\n",
       "             55, 56, 57, 58, 59, 60, 61, 62, 63, 64, 65, 66, 67, 68, 69, 70, 71,\n",
       "             72, 73, 74, 75, 76, 77, 78, 79, 80, 81, 82, 83],\n",
       "            dtype='int64'),\n",
       " 'Contributions': Int64Index([33, 34, 35, 36], dtype='int64'),\n",
       " 'Contributions/Sale of Property': Int64Index([115, 116, 117, 118, 119, 120, 121], dtype='int64'),\n",
       " 'Investment Income': Int64Index([149, 150], dtype='int64'),\n",
       " 'Local Taxes': Int64Index([2, 3, 4, 5, 6, 7, 8, 9, 10], dtype='int64'),\n",
       " 'Maritime User Fees': Int64Index([141, 142, 143, 144, 145, 146, 147], dtype='int64'),\n",
       " 'Miscellaneous Revenue': Int64Index([152], dtype='int64'),\n",
       " 'Other': Int64Index([154], dtype='int64'),\n",
       " 'Other Financing Sources': Int64Index([103, 104], dtype='int64'),\n",
       " 'Program Income': Int64Index([123, 124], dtype='int64'),\n",
       " 'Revenues': Int64Index([109, 110, 111, 112, 113], dtype='int64'),\n",
       " 'Service Fees': Int64Index([126, 127], dtype='int64'),\n",
       " 'State and Federal Aid': Int64Index([88, 89, 90, 91, 92, 93, 94, 95, 96, 97, 98, 99, 100, 101], dtype='int64'),\n",
       " 'Transfers': Int64Index([85, 86], dtype='int64'),\n",
       " 'Use of Money and Property': Int64Index([106, 107], dtype='int64'),\n",
       " 'User Fees': Int64Index([12, 13, 14, 15, 16, 17, 18, 19, 20, 21, 22, 23, 24, 25, 26, 27, 28,\n",
       "             29, 30, 31],\n",
       "            dtype='int64')}"
      ]
     },
     "execution_count": 86,
     "metadata": {},
     "output_type": "execute_result"
    }
   ],
   "source": [
    "grouped.get_group('Revenues').groupby('Unnamed: 1').groups"
   ]
  },
  {
   "cell_type": "code",
   "execution_count": 87,
   "metadata": {},
   "outputs": [
    {
     "data": {
      "text/plain": [
       "{'Expenses': Int64Index([157, 158, 159, 160, 161, 162, 163, 164, 165, 166,\n",
       "             ...\n",
       "             338, 339, 341, 342, 344, 346, 347, 348, 349, 350],\n",
       "            dtype='int64', length=172),\n",
       " 'Revenues': Int64Index([  2,   3,   4,   5,   6,   7,   8,   9,  10,  12,\n",
       "             ...\n",
       "             142, 143, 144, 145, 146, 147, 149, 150, 152, 154],\n",
       "            dtype='int64', length=137)}"
      ]
     },
     "execution_count": 87,
     "metadata": {},
     "output_type": "execute_result"
    }
   ],
   "source": [
    "grouped.groups"
   ]
  },
  {
   "cell_type": "code",
   "execution_count": 107,
   "metadata": {},
   "outputs": [],
   "source": [
    "cons = {}\n",
    "for name, group in grouped:\n",
    "    sums = group.groupby('Unnamed: 1')['2014-15 Actual'].sum()\n",
    "    cons[name] = sums\n"
   ]
  },
  {
   "cell_type": "code",
   "execution_count": 121,
   "metadata": {},
   "outputs": [],
   "source": [
    "nodes = []\n",
    "for i in cons['Revenues'].index:\n",
    "    nodes.extend([('Revenues', i, cons['Revenues'][i])])\n"
   ]
  },
  {
   "cell_type": "code",
   "execution_count": 137,
   "metadata": {},
   "outputs": [
    {
     "data": {
      "text/plain": [
       "[('Revenues', 'Beach Revenue', 838484),\n",
       " ('Revenues', 'Charges for Services', 9593161),\n",
       " ('Revenues', 'Contributions', 11633389),\n",
       " ('Revenues', 'Contributions/Sale of Property', 3194563),\n",
       " ('Revenues', 'Investment Income', 292079),\n",
       " ('Revenues', 'Local Taxes', 73924776),\n",
       " ('Revenues', 'Maritime User Fees', 799311),\n",
       " ('Revenues', 'Miscellaneous Revenue', 53589),\n",
       " ('Revenues', 'Other', 100000),\n",
       " ('Revenues', 'Other Financing Sources', 6158546),\n",
       " ('Revenues', 'Program Income', 368795),\n",
       " ('Revenues', 'Revenues', 1904193),\n",
       " ('Revenues', 'Service Fees', 1161272),\n",
       " ('Revenues', 'State and Federal Aid', 4483058),\n",
       " ('Revenues', 'Transfers', 4040174),\n",
       " ('Revenues', 'Use of Money and Property', 7582881),\n",
       " ('Revenues', 'User Fees', 31326979)]"
      ]
     },
     "execution_count": 137,
     "metadata": {},
     "output_type": "execute_result"
    }
   ],
   "source": [
    "nodes"
   ]
  },
  {
   "cell_type": "code",
   "execution_count": 125,
   "metadata": {},
   "outputs": [],
   "source": [
    "lev2 = []\n",
    "for i, row in grouped.get_group('Revenues').iterrows():\n",
    "    lev2.extend([(row['Unnamed: 2'], row['Unnamed: 1'], row['2014-15 Actual'])])\n"
   ]
  },
  {
   "cell_type": "code",
   "execution_count": 126,
   "metadata": {},
   "outputs": [
    {
     "data": {
      "text/plain": [
       "[('(45101) CY Real Estate Taxes', 'Local Taxes', 66324807),\n",
       " ('(45115) Meals and Beverage Tax', 'Local Taxes', 2069020),\n",
       " ('(45116) Rooms Tax', 'Local Taxes', 1941837),\n",
       " ('(45103) CY Motor Vehicle Taxes', 'Local Taxes', 1840371),\n",
       " ('(45105) Real Estate Delinquent', 'Local Taxes', 1265060),\n",
       " ('(45110) Penalties', 'Local Taxes', 354530),\n",
       " ('(45107) Motor Vehicle Delinquent', 'Local Taxes', 106814),\n",
       " ('(45111) Tax Liens', 'Local Taxes', 22337),\n",
       " ('(45112) Tax Abatements', 'Local Taxes', 0),\n",
       " ('(47109) Metered Water Charges', 'User Fees', 11771666),\n",
       " ('(47111) Metered User Fees', 'User Fees', 7959854),\n",
       " ('(47110) Bulk Water Charges', 'User Fees', 3472252),\n",
       " ('(45862) CSO Fixed Fee', 'User Fees', 2089693),\n",
       " ('(45801) Equipment Operations Interfu', 'User Fees', 1365690),\n",
       " ('(47105) Public Fire Protection', 'User Fees', 973663),\n",
       " ('(47125) Water Billing Charges', 'User Fees', 923473),\n",
       " ('(45857) Sewage Treatment Navy', 'User Fees', 668506),\n",
       " ('(45891) Parking Meters', 'User Fees', 685996),\n",
       " ('(45856) Sewage Treatment Water Fund', 'User Fees', 467154),\n",
       " ('(47107) Private Fire Protection', 'User Fees', 404678),\n",
       " ('(47136) Middletown Reimbursement', 'User Fees', 146895),\n",
       " ('(47100) Sundry Billings', 'User Fees', 147125),\n",
       " ('(45879) Pre-treatment Fees', 'User Fees', 117288),\n",
       " ('(47135) Water Penalty', 'User Fees', 54474),\n",
       " ('(47120) User Fee Penalties', 'User Fees', 36841),\n",
       " ('(47137) Water Quality Protection Rev', 'User Fees', 23638),\n",
       " ('(47115) Other Revenue', 'User Fees', 25),\n",
       " ('(45855) Sewer Assessment Fee', 'User Fees', 10215),\n",
       " ('(47130) Water Misc Revenue', 'User Fees', 7853),\n",
       " ('(45807) Contribution From City', 'Contributions', 10060268),\n",
       " ('(45810) Unfunded Member Contribution', 'Contributions', 1095144),\n",
       " ('(47150) Middletown Contrib to Emergency', 'Contributions', 338610),\n",
       " ('(45811) Contributions', 'Contributions', 139367),\n",
       " ('(45505) Special Detail Charges', 'Charges for Services', 1955739),\n",
       " ('(45640) Building Permits', 'Charges for Services', 1020579),\n",
       " ('(45540) Management Services to Other', 'Charges for Services', 881628),\n",
       " ('(45603) Parking Tickets', 'Charges for Services', 700913),\n",
       " ('(45608) Rescue Fees', 'Charges for Services', 790197),\n",
       " ('(45606) Real Estate Conveyance Fee', 'Charges for Services', 765799),\n",
       " ('(45666) Jai Alai Video and Slot Mach', 'Charges for Services', 456356),\n",
       " ('(45502) GMH Service Charges', 'Charges for Services', 351388),\n",
       " ('(45605) Recording Fees', 'Charges for Services', 294772),\n",
       " ('(45644) Mechanical Permits', 'Charges for Services', 254977),\n",
       " ('(45646) Electrical Permits', 'Charges for Services', 255296),\n",
       " ('(45616) Liquor Licenses', 'Charges for Services', 192090),\n",
       " ('(45503) HOPE VI Service Charges', 'Charges for Services', 170027),\n",
       " ('(45545) Fire Alarm Assessment', 'Charges for Services', 160373),\n",
       " ('(45660) Municipal Court Assessments', 'Charges for Services', 141620),\n",
       " ('(45654) Fire Inspection Fees', 'Charges for Services', 157244),\n",
       " ('(47103) Disposal Permits', 'Charges for Services', 130471),\n",
       " ('(45549) Recreation Fees', 'Charges for Services', 100162),\n",
       " ('(45610) General Business Fee', 'Charges for Services', 92518),\n",
       " ('(45652) Road Opening Permits', 'Charges for Services', 99863),\n",
       " ('(45530) Computer Processing Fees', 'Charges for Services', 178887),\n",
       " ('(45642) Plumbing Permits', 'Charges for Services', 82872),\n",
       " ('(45515) Document Preparation and Han', 'Charges for Services', 60030),\n",
       " ('(45624) Victualing Licenses', 'Charges for Services', 57080),\n",
       " ('(45607) Probate Fees', 'Charges for Services', 36451),\n",
       " ('(45601) Ballfield Rentals', 'Charges for Services', 34573),\n",
       " ('(45648) Board of Appeals Fee', 'Charges for Services', 16475),\n",
       " ('(45614) Entertainment Licenses', 'Charges for Services', 25185),\n",
       " ('(45620) Sunday Selling Licenses', 'Charges for Services', 24500),\n",
       " ('(45656) Fire Sundry', 'Charges for Services', 19550),\n",
       " ('(45547) Bulky Waste Sticker Prog', 'Charges for Services', 9620),\n",
       " ('(45650) Historic District Commission', 'Charges for Services', 13200),\n",
       " ('(45618) Mechanical Amusement License', 'Charges for Services', 11200),\n",
       " ('(45658) Police Sundry', 'Charges for Services', 6621),\n",
       " ('(45612) Hotel Registration Fees', 'Charges for Services', 7550),\n",
       " ('(45504) Salve Regina Service Charge', 'Charges for Services', 6902),\n",
       " ('(45628) Marriage Licenses', 'Charges for Services', 5744),\n",
       " ('(45889) King Park Permits', 'Charges for Services', 6102),\n",
       " ('(45517) Solid Waste Hauler Lic Fee', 'Charges for Services', 4750),\n",
       " ('(45548) HR Regional Testing Charges', 'Charges for Services', 5130),\n",
       " ('(45626) Animal Licenses', 'Charges for Services', 4502),\n",
       " ('(45880) Fishing Vehicle Parking Fees', 'Charges for Services', 2160),\n",
       " ('(45516) Planning Services', 'Charges for Services', 653),\n",
       " ('(45664) Vendor Rights', 'Charges for Services', 659),\n",
       " ('(45546) Recycling Bins', 'Charges for Services', 599),\n",
       " ('(45662) Payphone Commissions', 'Charges for Services', 154),\n",
       " ('(48007) Transfer In for Capital Proj', 'Transfers', 2943950),\n",
       " ('(46002) Transfer From Other Funds', 'Transfers', 1096224),\n",
       " ('(45326) School Housing Aid from Stat', 'State and Federal Aid', 1017394),\n",
       " ('(45328) PILOT From State', 'State and Federal Aid', 1315321),\n",
       " ('(45345) Federal Aid', 'State and Federal Aid', 718690),\n",
       " ('(45331) State Aid', 'State and Federal Aid', 394773),\n",
       " ('(45323) Public Service Corp State Ai', 'State and Federal Aid', 330398),\n",
       " ('(45329) Library Construction State A', 'State and Federal Aid', 200053),\n",
       " ('(45335) Pension Incentive Aid (State', 'State and Federal Aid', 116689),\n",
       " ('(45350) Federal Stimulus Aid', 'State and Federal Aid', 191543),\n",
       " ('(45325) Motor Vehicle Phase Out Stat', 'State and Federal Aid', 77876),\n",
       " ('(45340) FEMA', 'State and Federal Aid', 0),\n",
       " ('(45333) Federal Drug Seizure Forfeit', 'State and Federal Aid', 40878),\n",
       " ('(45330) Statistical Update Reimburse', 'State and Federal Aid', 73314),\n",
       " ('(45334) State Drug Seizure Forfeitur', 'State and Federal Aid', 1509),\n",
       " ('(45332) DARE', 'State and Federal Aid', 4620),\n",
       " ('(46005) OFS Bond Proceeds', 'Other Financing Sources', 5735000),\n",
       " ('(46011) OFS Bond Premium', 'Other Financing Sources', 423546),\n",
       " ('(45770) Interest/Capital Gains Incom',\n",
       "  'Use of Money and Property',\n",
       "  7200713),\n",
       " ('(45700) Rental of Property', 'Use of Money and Property', 382168),\n",
       " ('(45854) Description pending', 'Revenues', 738302),\n",
       " ('(45886) Gateway Parking - Vendor', 'Revenues', 605762),\n",
       " ('(45882) Mary Street Parking', 'Revenues', 352017),\n",
       " ('(45888) Gateway Parking - Marriott', 'Revenues', 105000),\n",
       " ('(45892) Description pending', 'Revenues', 103112),\n",
       " ('(45930) Sale of Property', 'Contributions/Sale of Property', 2422500),\n",
       " ('(45941) OPEB Trust - City Contributi',\n",
       "  'Contributions/Sale of Property',\n",
       "  500000),\n",
       " ('(45920) Trust Fund Revenue', 'Contributions/Sale of Property', 191500),\n",
       " ('(45940) Preservation Society Income',\n",
       "  'Contributions/Sale of Property',\n",
       "  50000),\n",
       " (\"(45925) Family & Children's Night\",\n",
       "  'Contributions/Sale of Property',\n",
       "  18666),\n",
       " ('(45929) Sale of Surplus Equipment',\n",
       "  'Contributions/Sale of Property',\n",
       "  11897),\n",
       " ('(45926) Recreation Scholarship Reven', 'Contributions/Sale of Property', 0),\n",
       " ('(45750) Program Income', 'Program Income', 323917),\n",
       " ('(45751) Program Interest Income', 'Program Income', 44878),\n",
       " ('(45690) Equipment Services Charges', 'Service Fees', 869907),\n",
       " ('(45878) WPC Billing Reimbursement', 'Service Fees', 291365),\n",
       " ('(45827) Beach Parking Revenue', 'Beach Revenue', 507848),\n",
       " ('(45822) Rotunda Rentals', 'Beach Revenue', 148005),\n",
       " ('(45825) Food Concession Revenues', 'Beach Revenue', 38553),\n",
       " ('(45821) Bathhouse Rentals', 'Beach Revenue', 46936),\n",
       " ('(45829) Beach Parking Meters', 'Beach Revenue', 37242),\n",
       " ('(45828) Beach Store Sales', 'Beach Revenue', 19699),\n",
       " ('(45820) Beach Bounce Fees', 'Beach Revenue', 15675),\n",
       " ('(45823) Carousel Income', 'Beach Revenue', 14059),\n",
       " ('(45826) Outside Vendor Revenues', 'Beach Revenue', 8007),\n",
       " (\"(45699) Easton's Beach Misc Revenue\", 'Beach Revenue', 1906),\n",
       " ('(45824) Beach Bounce Food', 'Beach Revenue', 554),\n",
       " ('(45813) Harbor Fees', 'Maritime User Fees', 371508),\n",
       " ('(45816) Harbor Fines and Fees', 'Maritime User Fees', 194424),\n",
       " ('(45802) Cruise Ship Fees', 'Maritime User Fees', 192684),\n",
       " ('(47116) Perrotti Park Transient Dock', 'Maritime User Fees', 13463),\n",
       " ('(45803) Ann St Pier Fees', 'Maritime User Fees', 13533),\n",
       " ('(47160) Maritime Center Revenue', 'Maritime User Fees', 8363),\n",
       " ('(45804) Dingy Permit Fees', 'Maritime User Fees', 5336),\n",
       " ('(45701) Investment Income', 'Investment Income', 139480),\n",
       " ('(45740) School OPEB Income', 'Investment Income', 152599),\n",
       " ('(45695) Miscellaneous Revenues', 'Miscellaneous Revenue', 53589),\n",
       " ('(45808) Salary Reimbursement from Pa', 'Other', 100000)]"
      ]
     },
     "execution_count": 126,
     "metadata": {},
     "output_type": "execute_result"
    }
   ],
   "source": [
    "lev2"
   ]
  },
  {
   "cell_type": "code",
   "execution_count": 117,
   "metadata": {
    "collapsed": true
   },
   "outputs": [],
   "source": [
    "extr = []\n",
    "for name, group in grouped:\n",
    "    sums = group.groupby('Unnamed: 1')['2014-15 Actual'].sum()\n",
    "    for i in sums.index:\n",
    "        extr.extend([(name, i , sums[i])])\n"
   ]
  },
  {
   "cell_type": "code",
   "execution_count": 118,
   "metadata": {},
   "outputs": [
    {
     "data": {
      "text/plain": [
       "[('Expenses', 'Awards', 194171),\n",
       " ('Expenses', 'Capital Outlay Expense', 4650735),\n",
       " ('Expenses', 'Civic Support', 113450),\n",
       " ('Expenses', 'Debt', 8693281),\n",
       " ('Expenses', 'Depreciation', 5671146),\n",
       " ('Expenses', 'Employee Benefits', 21543446),\n",
       " ('Expenses', 'Expenses', 3750),\n",
       " ('Expenses', 'Fees', 612782),\n",
       " ('Expenses', 'Fixed Assets', -357388),\n",
       " ('Expenses', 'Grants Expense', 1190870),\n",
       " ('Expenses', 'Internal Services', 2599208),\n",
       " ('Expenses', 'Library', 1756025),\n",
       " ('Expenses', 'Operating Expense', 5067072),\n",
       " ('Expenses', 'Other', 700075),\n",
       " ('Expenses', 'Pension Expense', 10783984),\n",
       " ('Expenses', 'Program Expense', 46360),\n",
       " ('Expenses', 'Purchased Services', 5797334),\n",
       " ('Expenses', 'Repairs and Maintenance', 1457062),\n",
       " ('Expenses', 'Salaries', 27004444),\n",
       " ('Expenses', 'School Appropriation', 23377157),\n",
       " ('Expenses', 'Supplies and Materials', 2544724),\n",
       " ('Expenses', 'Transfers', 4259605),\n",
       " ('Expenses', 'Utilities', 3973023),\n",
       " ('Revenues', 'Beach Revenue', 838484),\n",
       " ('Revenues', 'Charges for Services', 9593161),\n",
       " ('Revenues', 'Contributions', 11633389),\n",
       " ('Revenues', 'Contributions/Sale of Property', 3194563),\n",
       " ('Revenues', 'Investment Income', 292079),\n",
       " ('Revenues', 'Local Taxes', 73924776),\n",
       " ('Revenues', 'Maritime User Fees', 799311),\n",
       " ('Revenues', 'Miscellaneous Revenue', 53589),\n",
       " ('Revenues', 'Other', 100000),\n",
       " ('Revenues', 'Other Financing Sources', 6158546),\n",
       " ('Revenues', 'Program Income', 368795),\n",
       " ('Revenues', 'Revenues', 1904193),\n",
       " ('Revenues', 'Service Fees', 1161272),\n",
       " ('Revenues', 'State and Federal Aid', 4483058),\n",
       " ('Revenues', 'Transfers', 4040174),\n",
       " ('Revenues', 'Use of Money and Property', 7582881),\n",
       " ('Revenues', 'User Fees', 31326979)]"
      ]
     },
     "execution_count": 118,
     "metadata": {},
     "output_type": "execute_result"
    }
   ],
   "source": [
    "extr"
   ]
  },
  {
   "cell_type": "code",
   "execution_count": null,
   "metadata": {
    "collapsed": true
   },
   "outputs": [],
   "source": []
  }
 ],
 "metadata": {
  "kernelspec": {
   "display_name": "Python 3",
   "language": "python",
   "name": "python3"
  },
  "language_info": {
   "codemirror_mode": {
    "name": "ipython",
    "version": 3
   },
   "file_extension": ".py",
   "mimetype": "text/x-python",
   "name": "python",
   "nbconvert_exporter": "python",
   "pygments_lexer": "ipython3",
   "version": "3.6.2"
  }
 },
 "nbformat": 4,
 "nbformat_minor": 2
}
